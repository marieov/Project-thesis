{
 "cells": [
  {
   "cell_type": "code",
   "execution_count": 1,
   "id": "cb7a3eeb",
   "metadata": {},
   "outputs": [],
   "source": [
    "from pyedflib import EdfReader\n",
    "import pywt\n",
    "import numpy as np\n",
    "from sklearn.ensemble import RandomForestClassifier\n",
    "from sklearn.metrics import accuracy_score, f1_score, precision_score, recall_score\n",
    "import re\n",
    "from timeit import default_timer as timer \n",
    "import matplotlib.pyplot as plt\n",
    "import pandas as pd\n",
    "import seaborn as sns\n",
    "from sklearn.model_selection import train_test_split"
   ]
  },
  {
   "cell_type": "markdown",
   "id": "69b784c2",
   "metadata": {},
   "source": [
    "# FILE READING"
   ]
  },
  {
   "cell_type": "code",
   "execution_count": 2,
   "id": "5135b248",
   "metadata": {},
   "outputs": [],
   "source": [
    "def read_record_files(dataset_path): \n",
    "    \"\"\"\n",
    "    Open and store the names of all files and of the ones with seizures\n",
    "\n",
    "        param dataset_path: the path to the dataset, string\n",
    "\n",
    "        return files: list of names of all the files, on the form 'chb01/chb01_01'\n",
    "        return files_seizures: list of names of all the files with seizures, on the form 'chb01/chb01_01'\n",
    "    \"\"\"\n",
    "    records = open(dataset_path + '/' + 'RECORDS_TXT.txt', 'r')\n",
    "    records_seizures = open(dataset_path + '/' + 'RECORDS-WITH-SEIZURES_TXT.txt', 'r')\n",
    "    files = records.readlines()\n",
    "    files_seizures = records_seizures.readlines()\n",
    "    records.close()\n",
    "    records_seizures.close()\n",
    "    return files, files_seizures"
   ]
  },
  {
   "cell_type": "markdown",
   "id": "83fcb0f0",
   "metadata": {},
   "source": [
    "# FEATURE CALCULATION "
   ]
  },
  {
   "cell_type": "code",
   "execution_count": 28,
   "id": "1f2555af",
   "metadata": {},
   "outputs": [],
   "source": [
    "import mne_features\n",
    "import hfda\n",
    "\n",
    "def teager_energy(data):\n",
    "    sum_values = sum(abs(data[x]**2) if x == 0\n",
    "                     else abs(data[x]**2 - data[x - 1] * data[x + 1])\n",
    "                     for x in range(0, len(data) - 1))\n",
    "    if sum_values == 0:\n",
    "        return 0  # Avoids log(0) with flat sub-bands/signals\n",
    "    return np.log10((1 / float(len(data))) * sum_values)\n",
    "\n",
    "\n",
    "def instantaneous_energy(data):\n",
    "    if sum(i ** 2 for i in data) == 0:\n",
    "        return 0  # Avoids log(0) with flat sub-bands/signals\n",
    "    return np.log10((1 / float(len(data))) * sum(i ** 2 for i in data))\n",
    "    \n",
    "    \n",
    "def mean(data):\n",
    "    mean = mne_features.univariate.compute_mean(data)\n",
    "    return mean\n",
    "    \n",
    "    \n",
    "def variance(data):\n",
    "    return mne_features.univariate.compute_variance(data)\n",
    "  \n",
    "    \n",
    "def skewness(data):\n",
    "    return mne_features.univariate.compute_skewness(data)\n",
    "\n",
    "\n",
    "def zero_crossing(data):\n",
    "    return mne_features.univariate.compute_zero_crossings(data, threshold = 2.221e-16)\n",
    "\n",
    "\n",
    "def kurtosis(data):\n",
    "    return mne_features.univariate.compute_kurtosis(data)\n",
    "\n",
    "\n",
    "def spect_entropy(data):\n",
    "    return mne_features.univariate.compute_spect_entropy(250, data)\n",
    "\n",
    "\n",
    "def hfd(data, k_max=None):\n",
    "    return hfda.measure(data, 10)\n",
    "    \n",
    "    \n",
    "def pfd(data):\n",
    "    N_delta = np.diff(np.signbit(data)).sum()\n",
    "    N = len(data)\n",
    "    return (np.log10(N))/(np.log10(N) + np.log10((N/N+0.4*N_delta)))\n"
   ]
  },
  {
   "cell_type": "code",
   "execution_count": null,
   "id": "24def4e2",
   "metadata": {},
   "outputs": [],
   "source": [
    "\"\"\"\n",
    "MORE FEATURES TO EXPLORE (FROM HÅKON)\n",
    "\n",
    "skewness(dwt_value), # gives nan\n",
    "zero_crossing(dwt_value), # gives a dimentionality error \n",
    "kurtosis(dwt_value),# gives nan\n",
    "spect_entropy(dwt_value),# gives a dimentionality error\n",
    "hfd(dwt_value), #gives nan\n",
    "\n",
    "mad_arr = []\n",
    "log_8th_moment_arr = []\n",
    "log_9th_moment_arr = []\n",
    "analytic_arr = []\n",
    "kozachenko_arr = []\n",
    "permutation_arr = []\n",
    "spectral_arr = []\n",
    "approximate_arr = []\n",
    "svd_arr = []\n",
    "sample_arr = []\n",
    "eeg_band_means_arr = []\n",
    "eeg_band_avg_pwr_arr = []\n",
    "eeg_band_rel_pwr_arr = []\n",
    "eeg_band_ratio_pwr_arr = []\n",
    "pfd_arr = []\n",
    "hfd_arr = []\n",
    "kfd_arr = []\n",
    "sfd_arr = []\n",
    "hjorth_mobility_arr = []\n",
    "hjorth_complexity_arr = []\n",
    "dfa_arr = []\n",
    "\"\"\""
   ]
  },
  {
   "cell_type": "markdown",
   "id": "43515199",
   "metadata": {},
   "source": [
    "# FEATURE EXTRACTION"
   ]
  },
  {
   "cell_type": "code",
   "execution_count": 4,
   "id": "41e241a5",
   "metadata": {
    "scrolled": true
   },
   "outputs": [
    {
     "name": "stdout",
     "output_type": "stream",
     "text": [
      "File chb12/chb12_06.edf\n",
      "\n",
      "File chb12/chb12_08.edf\n",
      "\n",
      "File chb12/chb12_09.edf\n",
      "\n",
      "File chb12/chb12_10.edf\n",
      "\n",
      "File chb12/chb12_11.edf\n",
      "\n",
      "File chb12/chb12_19.edf\n",
      "\n",
      "File chb12/chb12_20.edf\n",
      "\n",
      "File chb12/chb12_21.edf\n",
      "\n",
      "File chb12/chb12_23.edf\n",
      "\n",
      "File chb12/chb12_24.edf\n",
      "\n",
      "File chb12/chb12_27.edf\n",
      "\n",
      "File chb12/chb12_28.edf\n",
      "\n",
      "File chb12/chb12_29.edf\n",
      "\n",
      "File chb12/chb12_32.edf\n",
      "\n",
      "File chb12/chb12_33.edf\n",
      "\n",
      "File chb12/chb12_34.edf\n",
      "\n",
      "File chb12/chb12_35.edf\n",
      "\n",
      "File chb12/chb12_36.edf\n",
      "\n",
      "File chb12/chb12_37.edf\n",
      "\n",
      "File chb12/chb12_38.edf\n",
      "\n",
      "File chb12/chb12_39.edf\n",
      "\n",
      "File chb12/chb12_40.edf\n",
      "\n",
      "File chb12/chb12_41.edf\n",
      "\n",
      "File chb12/chb12_42.edf\n",
      "\n",
      "Time: 449.6367977000773\n"
     ]
    }
   ],
   "source": [
    "\n",
    "import math\n",
    "def get_seizure_start_end(fname_path): \n",
    "    \"\"\"\n",
    "    Finds the start time and end time for the seizure from the summary file for each patient. \n",
    "    There can be more than one seizure per file\n",
    "\n",
    "        param: fname_path: the path to the file with the seizure, string\n",
    "\n",
    "        return start_time: when the seizure starts, list of strings  \n",
    "        return end_time: when the seizure ends, list of strings\n",
    "    \"\"\"\n",
    "    start_time = []\n",
    "    end_time = []\n",
    "    summary_file = open(fname_path[:-7] + '-summary.txt','r')\n",
    "    for line in summary_file: \n",
    "        seizure_start = re.search(\"Seizure\\s\\d\\sStart\", line)\n",
    "        if seizure_start is not None: \n",
    "            start_time += line.split()[4:][:-1]\n",
    "        seizure_end = re.search(\"Seizure\\s\\d\\sEnd\", line)\n",
    "        if seizure_end is not None: \n",
    "            end_time += line.split()[4:][:-1]\n",
    "    summary_file.close()\n",
    "    return start_time, end_time\n",
    "\n",
    "\n",
    "def calculate_features(dwt, feature_vector):\n",
    "    \"\"\"\n",
    "    Calculating features from the decomposition levels\n",
    "\n",
    "        param dwt: the dwt levels, list\n",
    "        param fature_vector: the vector to add more features to\n",
    "\n",
    "        return feature_vector: updated feature_vector with onw more row of features\n",
    "    \"\"\"\n",
    "    feature = []\n",
    "    for dwt_value in dwt:\n",
    "        feature += [teager_energy(dwt_value), \n",
    "                           instantaneous_energy(dwt_value), \n",
    "                           mean(dwt_value), \n",
    "                           variance(dwt_value), \n",
    "                           pfd(dwt_value)]        \n",
    "    feature_vector.append(feature)\n",
    "    return feature_vector\n",
    "\n",
    "\n",
    "def generate_features_from_files(dataset_path, files, files_seizures, Fs): \n",
    "    \"\"\"\n",
    "    Reads the signal for each patient, for each trail and each channel. \n",
    "    TODO: the code now reads only the files for patient 12 to reduce runtime \n",
    "    Each signal is decomposed into 4 levels using DWT. \n",
    "    From the four levels features are found\n",
    "    TODO: add more features when runtime is better\n",
    "    These are added to one of two feature vectors for all the patients: one with and one without seizure \n",
    "\n",
    "        param dataset_path: the path to the dataset, string\n",
    "        param files: names of all the files, on the form 'chb01/chb01_01', list\n",
    "        param files_seizures: names of all the files with seizures, on the form 'chb01/chb01_01', list\n",
    "        param Fs: sampling frequency, int\n",
    "\n",
    "        return features_seizures: features for signals with seizures, list\n",
    "        return features_no_seizures: features for signals without signals, list\n",
    "    \"\"\"\n",
    "\n",
    "    # Variables\n",
    "    features_no_seizure = []\n",
    "    features_seizure = []\n",
    "\n",
    "    # For all files in the whole dataset\n",
    "    for file in files:\n",
    "        if (file.startswith('chb12/')): # TODO: remove this to run the code for all patients. Keep it to make the code run faster and debugging\n",
    "            print('File', file) # debugging\n",
    "            fname_path = dataset_path + '/' + file.strip()\n",
    "            f = EdfReader(fname_path)\n",
    "            channel_names = f.getSignalLabels() # TODO: can I come up with a better solution?\n",
    "\n",
    "            for channel in range(len(channel_names)):\n",
    "                signal = f.readSignal(channel)\n",
    "            \n",
    "                if file in files_seizures: # If the file has a seizure we need to separate the seizure signal from the non-seizure signal\n",
    "                    # Get seizure interval from files: \n",
    "                    start_time, end_time = get_seizure_start_end(fname_path)\n",
    "\n",
    "                    # For each seizure we collect the signal to do dwt and find features\n",
    "                    for i in range(len(start_time)): \n",
    "                        seizure_start = int(start_time[i]) # in seconds\n",
    "                        seizure_end = int(end_time[i]) # in seconds\n",
    "                        seizure_signal = signal[int(seizure_start*Fs):int(seizure_end*Fs)]\n",
    "                        \n",
    "                        if len(seizure_signal) > 0 : # get rid of signals with lenght 0, TODO: why is chb12/chb12_11 []?\n",
    "                            dwt = pywt.wavedec(seizure_signal, 'bior2.2', level=4)\n",
    "                            features_seizure = calculate_features(dwt, features_seizure)\n",
    "                    \n",
    "                else: # no seizure in file\n",
    "                    dwt = pywt.wavedec(signal, 'bior2.2', level=4)\n",
    "                    features_no_seizure = calculate_features(dwt, features_no_seizure)\n",
    "                \n",
    "    return features_no_seizure, features_seizure\n",
    "\n",
    "\n",
    "dataset_path = \"C:/Users/marieov/OneDrive - NTNU/NTNU/9. semester/Project thesis/github/Project-thesis/CHB_MIT\" # TODO: in config\n",
    "Fs = 256 \n",
    "\n",
    "files, files_seizures = read_record_files(dataset_path)\n",
    "start = timer()\n",
    "features_no_seizure, features_seizure = generate_features_from_files(dataset_path, files, files_seizures, Fs)\n",
    "print(\"Time:\", timer()-start)\n"
   ]
  },
  {
   "cell_type": "markdown",
   "id": "bc6e557f",
   "metadata": {},
   "source": [
    "# MACHINE LEARNING PREPROCESSING"
   ]
  },
  {
   "cell_type": "code",
   "execution_count": 22,
   "id": "bca09f19",
   "metadata": {
    "scrolled": false
   },
   "outputs": [],
   "source": [
    "features = []\n",
    "\n",
    "def create_labels(features_no_seizure, features_seizure):\n",
    "    \"\"\"\n",
    "    Creating labels for the features found\n",
    "    0 is no seizure\n",
    "    1 is seizure\n",
    "\n",
    "        param features_seizures: features for signals with seizures, list\n",
    "        param features_no_seizures: features for signals without signals, list\n",
    "\n",
    "        return labels: labels 0 or 1, list\n",
    "    \"\"\"\n",
    "    labels_no_seizure = np.zeros(len(features_no_seizure))\n",
    "    labels_seizure = np.ones(len(features_seizure))\n",
    "    labels = np.append(labels_no_seizure, labels_seizure)\n",
    "    return labels\n",
    "\n",
    "labels = create_labels(features_no_seizure, features_seizure)\n",
    "features += features_no_seizure\n",
    "features += features_seizure\n",
    "\n",
    "# splitting the data\n",
    "X_train, X_test, y_train, y_test = train_test_split(features, labels, test_size=0.33, random_state=42)"
   ]
  },
  {
   "cell_type": "markdown",
   "id": "703cadc8",
   "metadata": {},
   "source": [
    "# MACHINE LEARNING EVALUATION"
   ]
  },
  {
   "cell_type": "code",
   "execution_count": null,
   "id": "db554e40",
   "metadata": {},
   "outputs": [],
   "source": [
    "from sklearn.metrics import classification_report, confusion_matrix\n",
    "from sklearn.model_selection import cross_val_score\n",
    "\n",
    "\n",
    "def confusion_matrix_heatmap(target, predicted, perc=False):\n",
    "    \"\"\"\n",
    "    Prints a heatmap for better interpration of the results\n",
    "    \n",
    "        param target: the labels for the test set, list\n",
    "        param predicted: the predicted values for the test set, list\n",
    "        \n",
    "        return:\n",
    "    \"\"\"\n",
    "    plt.figure()\n",
    "    data = {'y_Actual': target, 'y_Predicted': predicted}\n",
    "    df = pd.DataFrame(data, columns=['y_Predicted','y_Actual'])\n",
    "    c_matrix_l = pd.crosstab(df['y_Predicted'], df['y_Actual'],\n",
    "        rownames=['Predicted'], colnames=['Actual'])\n",
    "    if perc:\n",
    "        sns.heatmap(c_matrix_l/np.sum(c_matrix_l),\n",
    "            annot=True, fmt='.2%', cmap='Blues')\n",
    "    else:\n",
    "        sns.heatmap(c_matrix_l, annot=True, fmt='d')\n",
    "\n",
    "\n",
    "def get_metrices(y_test, y_train, y_model_predict_test, _average=\"macro\"): #, cmatrix_plot=False, _print=False, _title=\"\", _average=\"micro\", \"macro\"\n",
    "    \"\"\"\n",
    "    Prints different values to measure the preformance of the algorithm\n",
    "    \n",
    "        param y_test: the labels for the test set, list\n",
    "        param y_train: the labels for the training set, list\n",
    "        param y_model_predict_test: the predicted values for the test set, list\n",
    "        \n",
    "        return:        \n",
    "    \"\"\"    \n",
    "    _acc_test = round(accuracy_score(y_test, y_model_predict_test), 3)\n",
    "    _fscore = round(f1_score(y_test, y_model_predict_test, average=_average), 3)\n",
    "    _precision = round(precision_score(y_test, y_model_predict_test, average=_average), 3)\n",
    "    _recall = round(recall_score(y_test, y_model_predict_test, average=_average), 3)\n",
    "    _errors = abs(y_model_predict_test - y_test)\n",
    "    _error_precentage = round(np.sum(_errors)/len(_errors)*100, 2)\n",
    "    \n",
    "    print( \"Accuracy test: \",_acc_test, \"Error precentage\", _error_precentage, \"f1 score: \", _fscore, \"Precision: \", _precision, \"Recall: \", _recall)\n",
    "    \n",
    "    \n",
    "def find_important_features(model): \n",
    "    \"\"\"\n",
    "    Prints the features in decreasing order (first is the most important)\n",
    "    \n",
    "        param: random forest after fitting\n",
    "        \n",
    "        return:\n",
    "    \"\"\"\n",
    "    important_features_dict = {}\n",
    "    for xx, i in enumerate(model.feature_importances_):\n",
    "        important_features_dict[xx] = i\n",
    "    important_features_list = sorted(important_features_dict, key=important_features_dict.get, reverse = True)\n",
    "    print('Most important features', important_features_list)\n",
    "    \n",
    "    \n",
    "def cross_validation(model,X,y, k):\n",
    "    \"\"\"\n",
    "    Prints the mean AUC score from cross validation\n",
    "    \n",
    "        param model: \n",
    "        param X: \n",
    "        param y: \n",
    "        \n",
    "        return:         \n",
    "    \"\"\"\n",
    "    cv_score = cross_val_score(model, X, y, cv=k, scoring='roc_auc')\n",
    "    print(\"Mean AUC Score: \", cv_score.mean())\n"
   ]
  },
  {
   "cell_type": "markdown",
   "id": "b8a18393",
   "metadata": {},
   "source": [
    "# RANDOM FOREST "
   ]
  },
  {
   "cell_type": "code",
   "execution_count": 43,
   "id": "93ad9841",
   "metadata": {},
   "outputs": [
    {
     "name": "stdout",
     "output_type": "stream",
     "text": [
      "Most important features [4, 19, 14, 9, 24, 2, 6, 21, 16, 18, 3, 11, 8, 0, 5, 1, 10, 15, 7, 23, 13, 17, 12, 20, 22]\n",
      "Accuracy test:  0.996 Error precentage 0.43 f1 score:  0.945 Precision:  0.998 Recall:  0.902\n",
      "Mean AUC Score - Random Forest:  0.9831577911164466\n"
     ]
    },
    {
     "data": {
      "image/png": "[encoded data removed]",
      "text/plain": [
       "<Figure size 640x480 with 2 Axes>"
      ]
     },
     "metadata": {},
     "output_type": "display_data"
    }
   ],
   "source": [
    "def random_forest(X_train, X_test, y_train, y_test):\n",
    "    \"\"\"\n",
    "    Runs the random forest classifier\n",
    "    \n",
    "        param X_train: training data, matrix with features as rows and samples as columns\n",
    "        param X_test: test data, matrix with features as rows and samples as columns\n",
    "        param y_train: labels for training set, list\n",
    "        param y_test: labels for test set, list\n",
    "        \n",
    "        return rf: the random forest # TODO better explination\n",
    "        return y_rf_predict_test # TODO document\n",
    "    \"\"\"\n",
    "    rf = RandomForestClassifier(random_state=0)\n",
    "    rf.fit(X_train, y_train)\n",
    "    \n",
    "    y_rf_predict_test = rf.predict(X_test)\n",
    "   \n",
    "    return rf, y_rf_predict_test\n",
    "\n",
    "\n",
    "# running the random forest classifier\n",
    "rf, y_rf_predict_test = random_forest(X_train, X_test, y_train, y_test)\n",
    "\n",
    "# evaluating the model\n",
    "find_important_features(rf)\n",
    "get_metrices(y_test, y_train,y_rf_predict_test)\n",
    "confusion_matrix_heatmap(y_test, y_rf_predict_test)\n",
    "k = 10 # TOOD config\n",
    "cross_validation(rf, X, y, 10)"
   ]
  },
  {
   "cell_type": "markdown",
   "id": "a45fe52f",
   "metadata": {},
   "source": [
    "# GRADIENT BOOSTING\n"
   ]
  },
  {
   "cell_type": "code",
   "execution_count": 53,
   "id": "97b994d7",
   "metadata": {},
   "outputs": [],
   "source": [
    "from sklearn.preprocessing import MinMaxScaler\n",
    "from sklearn.model_selection import train_test_split\n",
    "from sklearn.metrics import classification_report, confusion_matrix\n",
    "from sklearn.ensemble import GradientBoostingClassifier"
   ]
  },
  {
   "cell_type": "code",
   "execution_count": 56,
   "id": "ab07eef1",
   "metadata": {},
   "outputs": [
    {
     "name": "stdout",
     "output_type": "stream",
     "text": [
      "Most important features [9, 23, 5, 14, 8, 19, 0, 24, 4, 10, 18, 16, 15, 17, 1, 11, 6, 3, 2, 7, 12, 13, 20, 21, 22]\n",
      "Accuracy test:  0.996 Error precentage 0.43 f1 score:  0.945 Precision:  0.998 Recall:  0.902\n",
      "Mean AUC Score - Random Forest:  0.9730377591036415\n"
     ]
    },
    {
     "data": {
      "image/png": "[encoded data removed]",
      "text/plain": [
       "<Figure size 640x480 with 2 Axes>"
      ]
     },
     "metadata": {},
     "output_type": "display_data"
    }
   ],
   "source": [
    "def gradient_boosting(learning_rate, X_train, X_test, y_train, y_test):\n",
    "    gb = GradientBoostingClassifier(learning_rate=learning_rate) #, n_estimators=20, max_features=2, max_depth=2, random_state=0)\n",
    "    gb.fit(X_train, y_train)\n",
    "    y_gb_predict_test = gb.predict(X_test)\n",
    "    \n",
    "    return gb, y_gb_predict_test\n",
    "\n",
    "\n",
    "# running the gradient boosting classifiser\n",
    "learning_rate = 0.75\n",
    "gb, y_gb_predict_test = gradient_boosting(learning_rate, X_train, X_test, y_train, y_test) \n",
    "\n",
    "# evaluating the model\n",
    "find_important_features(gb)\n",
    "get_metrices(y_test, y_train,y_gb_predict_test)\n",
    "confusion_matrix_heatmap(y_test, y_gb_predict_test)\n",
    "k = 10 # TOOD config\n",
    "cross_validation(gb, X, y, 10)\n"
   ]
  },
  {
   "cell_type": "markdown",
   "id": "f4ead657",
   "metadata": {},
   "source": [
    "# Oversampling"
   ]
  },
  {
   "cell_type": "code",
   "execution_count": 37,
   "id": "2a0e8d79",
   "metadata": {},
   "outputs": [
    {
     "name": "stdout",
     "output_type": "stream",
     "text": [
      "Most important features [4, 19, 14, 9, 24, 2, 3, 8, 5, 10, 1, 13, 0, 6, 15, 18, 11, 16, 23, 17, 7, 20, 22, 12, 21]\n",
      "Accuracy test:  0.839 Accuracy train:  0.915 Error precentage 16.07 f1 score:  0.562 Precision:  0.56 Recall:  0.918\n"
     ]
    },
    {
     "data": {
      "text/html": [
       "<style>#sk-container-id-2 {color: black;background-color: white;}#sk-container-id-2 pre{padding: 0;}#sk-container-id-2 div.sk-toggleable {background-color: white;}#sk-container-id-2 label.sk-toggleable__label {cursor: pointer;display: block;width: 100%;margin-bottom: 0;padding: 0.3em;box-sizing: border-box;text-align: center;}#sk-container-id-2 label.sk-toggleable__label-arrow:before {content: \"▸\";float: left;margin-right: 0.25em;color: #696969;}#sk-container-id-2 label.sk-toggleable__label-arrow:hover:before {color: black;}#sk-container-id-2 div.sk-estimator:hover label.sk-toggleable__label-arrow:before {color: black;}#sk-container-id-2 div.sk-toggleable__content {max-height: 0;max-width: 0;overflow: hidden;text-align: left;background-color: #f0f8ff;}#sk-container-id-2 div.sk-toggleable__content pre {margin: 0.2em;color: black;border-radius: 0.25em;background-color: #f0f8ff;}#sk-container-id-2 input.sk-toggleable__control:checked~div.sk-toggleable__content {max-height: 200px;max-width: 100%;overflow: auto;}#sk-container-id-2 input.sk-toggleable__control:checked~label.sk-toggleable__label-arrow:before {content: \"▾\";}#sk-container-id-2 div.sk-estimator input.sk-toggleable__control:checked~label.sk-toggleable__label {background-color: #d4ebff;}#sk-container-id-2 div.sk-label input.sk-toggleable__control:checked~label.sk-toggleable__label {background-color: #d4ebff;}#sk-container-id-2 input.sk-hidden--visually {border: 0;clip: rect(1px 1px 1px 1px);clip: rect(1px, 1px, 1px, 1px);height: 1px;margin: -1px;overflow: hidden;padding: 0;position: absolute;width: 1px;}#sk-container-id-2 div.sk-estimator {font-family: monospace;background-color: #f0f8ff;border: 1px dotted black;border-radius: 0.25em;box-sizing: border-box;margin-bottom: 0.5em;}#sk-container-id-2 div.sk-estimator:hover {background-color: #d4ebff;}#sk-container-id-2 div.sk-parallel-item::after {content: \"\";width: 100%;border-bottom: 1px solid gray;flex-grow: 1;}#sk-container-id-2 div.sk-label:hover label.sk-toggleable__label {background-color: #d4ebff;}#sk-container-id-2 div.sk-serial::before {content: \"\";position: absolute;border-left: 1px solid gray;box-sizing: border-box;top: 0;bottom: 0;left: 50%;z-index: 0;}#sk-container-id-2 div.sk-serial {display: flex;flex-direction: column;align-items: center;background-color: white;padding-right: 0.2em;padding-left: 0.2em;position: relative;}#sk-container-id-2 div.sk-item {position: relative;z-index: 1;}#sk-container-id-2 div.sk-parallel {display: flex;align-items: stretch;justify-content: center;background-color: white;position: relative;}#sk-container-id-2 div.sk-item::before, #sk-container-id-2 div.sk-parallel-item::before {content: \"\";position: absolute;border-left: 1px solid gray;box-sizing: border-box;top: 0;bottom: 0;left: 50%;z-index: -1;}#sk-container-id-2 div.sk-parallel-item {display: flex;flex-direction: column;z-index: 1;position: relative;background-color: white;}#sk-container-id-2 div.sk-parallel-item:first-child::after {align-self: flex-end;width: 50%;}#sk-container-id-2 div.sk-parallel-item:last-child::after {align-self: flex-start;width: 50%;}#sk-container-id-2 div.sk-parallel-item:only-child::after {width: 0;}#sk-container-id-2 div.sk-dashed-wrapped {border: 1px dashed gray;margin: 0 0.4em 0.5em 0.4em;box-sizing: border-box;padding-bottom: 0.4em;background-color: white;}#sk-container-id-2 div.sk-label label {font-family: monospace;font-weight: bold;display: inline-block;line-height: 1.2em;}#sk-container-id-2 div.sk-label-container {text-align: center;}#sk-container-id-2 div.sk-container {/* jupyter's `normalize.less` sets `[hidden] { display: none; }` but bootstrap.min.css set `[hidden] { display: none !important; }` so we also need the `!important` here to be able to override the default hidden behavior on the sphinx rendered scikit-learn.org. See: https://github.com/scikit-learn/scikit-learn/issues/21755 */display: inline-block !important;position: relative;}#sk-container-id-2 div.sk-text-repr-fallback {display: none;}</style><div id=\"sk-container-id-2\" class=\"sk-top-container\"><div class=\"sk-text-repr-fallback\"><pre>RandomForestClassifier(random_state=0)</pre><b>In a Jupyter environment, please rerun this cell to show the HTML representation or trust the notebook. <br />On GitHub, the HTML representation is unable to render, please try loading this page with nbviewer.org.</b></div><div class=\"sk-container\" hidden><div class=\"sk-item\"><div class=\"sk-estimator sk-toggleable\"><input class=\"sk-toggleable__control sk-hidden--visually\" id=\"sk-estimator-id-2\" type=\"checkbox\" checked><label for=\"sk-estimator-id-2\" class=\"sk-toggleable__label sk-toggleable__label-arrow\">RandomForestClassifier</label><div class=\"sk-toggleable__content\"><pre>RandomForestClassifier(random_state=0)</pre></div></div></div></div></div>"
      ],
      "text/plain": [
       "RandomForestClassifier(random_state=0)"
      ]
     },
     "execution_count": 37,
     "metadata": {},
     "output_type": "execute_result"
    },
    {
     "data": {
      "image/png": "[encoded data removed]",
      "text/plain": [
       "<Figure size 640x480 with 2 Axes>"
      ]
     },
     "metadata": {},
     "output_type": "display_data"
    }
   ],
   "source": [
    "from imblearn.over_sampling import RandomOverSampler\n",
    "\n",
    "ros = RandomOverSampler(random_state=0)\n",
    "X_resampled, y_resampled = ros.fit_resample(features, labels)\n",
    "\n",
    "random_forest(X_resampled, X_test, y_resampled, y_test)"
   ]
  },
  {
   "cell_type": "code",
   "execution_count": null,
   "id": "2167f9e4",
   "metadata": {},
   "outputs": [],
   "source": []
  }
 ],
 "metadata": {
  "kernelspec": {
   "display_name": "Python 3 (ipykernel)",
   "language": "python",
   "name": "python3"
  },
  "language_info": {
   "codemirror_mode": {
    "name": "ipython",
    "version": 3
   },
   "file_extension": ".py",
   "mimetype": "text/x-python",
   "name": "python",
   "nbconvert_exporter": "python",
   "pygments_lexer": "ipython3",
   "version": "3.10.4"
  }
 },
 "nbformat": 4,
 "nbformat_minor": 5
}
